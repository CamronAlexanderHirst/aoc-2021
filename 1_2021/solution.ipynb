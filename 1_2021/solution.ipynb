{
 "metadata": {
  "language_info": {
   "codemirror_mode": {
    "name": "ipython",
    "version": 3
   },
   "file_extension": ".py",
   "mimetype": "text/x-python",
   "name": "python",
   "nbconvert_exporter": "python",
   "pygments_lexer": "ipython3",
   "version": "3.8.9"
  },
  "orig_nbformat": 2,
  "kernelspec": {
   "name": "python389jvsc74a57bd031f2aee4e71d21fbe5cf8b01ff0e069b9275f58929596ceb00d14d90e3e16cd6",
   "display_name": "Python 3.8.9 64-bit"
  },
  "metadata": {
   "interpreter": {
    "hash": "31f2aee4e71d21fbe5cf8b01ff0e069b9275f58929596ceb00d14d90e3e16cd6"
   }
  }
 },
 "nbformat": 4,
 "nbformat_minor": 2,
 "cells": [
  {
   "cell_type": "code",
   "execution_count": 1,
   "metadata": {},
   "outputs": [],
   "source": [
    "import numpy as np \n",
    "import data\n"
   ]
  },
  {
   "cell_type": "code",
   "execution_count": 2,
   "metadata": {},
   "outputs": [
    {
     "output_type": "stream",
     "name": "stdout",
     "text": [
      "1696\n"
     ]
    }
   ],
   "source": [
    "# Part one: count number of differences > 0\n",
    "data_ary = np.array(data.data_1)\n",
    "example_ary = np.array(data.data_example)\n",
    "diff_ary = np.diff(data_ary)  # calculate the differences\n",
    "increase_count = np.sum(diff_ary > 0) # sum number of differences > 0 \n",
    "print(increase_count)"
   ]
  },
  {
   "cell_type": "code",
   "execution_count": 7,
   "metadata": {},
   "outputs": [
    {
     "output_type": "stream",
     "name": "stdout",
     "text": [
      "[  316.   323.   338. ... 28592. 28601. 28618.]\n[ 7. 15. 25. ...  4.  9. 17.]\n1737\n"
     ]
    }
   ],
   "source": [
    "# Part two: Count number of differences > 0, sliding window of 3\n",
    "convolve_ary = np.convolve(data_ary, np.ones(3), 'valid')\n",
    "conv_diff_ary = np.diff(convolve_ary)\n",
    "conv_increase_count = np.sum(conv_diff_ary > 0)\n",
    "print(convolve_ary)\n",
    "print(conv_diff_ary)\n",
    "print(conv_increase_count)"
   ]
  },
  {
   "cell_type": "code",
   "execution_count": null,
   "metadata": {},
   "outputs": [],
   "source": []
  }
 ]
}