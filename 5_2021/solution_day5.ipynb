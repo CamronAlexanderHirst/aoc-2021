{
 "cells": [
  {
   "cell_type": "code",
   "execution_count": 19,
   "metadata": {},
   "outputs": [],
   "source": [
    "import numpy as np\n",
    "\n",
    "# Read the input to list of boards and numbers\n",
    "with open('input.txt') as f:\n",
    "    lines = f.read().splitlines()  # read lines without /n\n",
    "\n",
    "# Create a list of lines\n",
    "list_of_lines = []\n",
    "\n",
    "for line in lines:\n",
    "    points = line.split(' -> ')\n",
    "    points = [point.split(',') for point in points]\n",
    "    points = [[int(point[0]), int(point[1])] for point in points]\n",
    "    list_of_lines.append(points)\n",
    "\n",
    "ary_of_lines = np.array(list_of_lines, dtype=int)"
   ]
  },
  {
   "cell_type": "code",
   "execution_count": 20,
   "metadata": {},
   "outputs": [
    {
     "name": "stdout",
     "output_type": "stream",
     "text": [
      "solution:  7380\n"
     ]
    }
   ],
   "source": [
    "## Part 1: Count number of overlapping lines\n",
    "\n",
    "vent_map = np.zeros((np.amax(ary_of_lines)+1, np.amax(ary_of_lines)+1))\n",
    "\n",
    "for line in list_of_lines:\n",
    "    x1, x2 = line[0][0], line[1][0]\n",
    "    y1, y2 = line[0][1], line[1][1]\n",
    "    if x1 == x2 or y1 == y2:\n",
    "        for x in range(min([x1,x2]), max([x1,x2])+1):\n",
    "            for y in range(min([y1,y2]), max([y1,y2])+1):\n",
    "                vent_map[x,y] += 1\n",
    "    else: \n",
    "        pass\n",
    "print('solution: ', sum(sum(x > 1 for x in vent_map)))"
   ]
  },
  {
   "cell_type": "code",
   "execution_count": 21,
   "metadata": {},
   "outputs": [
    {
     "name": "stdout",
     "output_type": "stream",
     "text": [
      "solution:  21373\n",
      "[[0. 0. 0. ... 0. 0. 0.]\n",
      " [0. 0. 0. ... 0. 0. 0.]\n",
      " [0. 0. 0. ... 0. 0. 0.]\n",
      " ...\n",
      " [0. 0. 0. ... 0. 0. 0.]\n",
      " [0. 0. 0. ... 1. 0. 0.]\n",
      " [0. 0. 0. ... 0. 0. 0.]]\n"
     ]
    }
   ],
   "source": [
    "## Part 2: Count number of overlapping lines, including diagonals\n",
    "\n",
    "vent_map = np.zeros((np.amax(ary_of_lines)+1, np.amax(ary_of_lines)+1))\n",
    "\n",
    "for line in list_of_lines:\n",
    "    x1, x2 = line[0][0], line[1][0]\n",
    "    y1, y2 = line[0][1], line[1][1]\n",
    "    if x1 == x2 or y1 == y2:\n",
    "        for x in range(min([x1,x2]), max([x1,x2])+1):\n",
    "            for y in range(min([y1,y2]), max([y1,y2])+1):\n",
    "                vent_map[x,y] += 1\n",
    "    else: \n",
    "        if x1 > x2:\n",
    "            x_range = range(x1, x2-1, -1)\n",
    "        else:\n",
    "            x_range = range(x1, x2+1, 1)\n",
    "        if y1 > y2:\n",
    "            y_range = range(y1, y2-1, -1)\n",
    "        else:\n",
    "            y_range = range(y1, y2+1, 1)\n",
    "        for x, y in zip(x_range, y_range):\n",
    "            vent_map[x,y] += 1\n",
    "\n",
    "print('solution: ', sum(sum(x > 1 for x in vent_map)))\n",
    "print(vent_map)"
   ]
  }
 ],
 "metadata": {
  "interpreter": {
   "hash": "31f2aee4e71d21fbe5cf8b01ff0e069b9275f58929596ceb00d14d90e3e16cd6"
  },
  "kernelspec": {
   "display_name": "Python 3.8.9 64-bit",
   "language": "python",
   "name": "python3"
  },
  "language_info": {
   "codemirror_mode": {
    "name": "ipython",
    "version": 3
   },
   "file_extension": ".py",
   "mimetype": "text/x-python",
   "name": "python",
   "nbconvert_exporter": "python",
   "pygments_lexer": "ipython3",
   "version": "3.8.9"
  },
  "orig_nbformat": 4
 },
 "nbformat": 4,
 "nbformat_minor": 2
}
