{
 "cells": [
  {
   "cell_type": "code",
   "execution_count": 49,
   "metadata": {},
   "outputs": [
    {
     "name": "stdout",
     "output_type": "stream",
     "text": [
      "100\n"
     ]
    }
   ],
   "source": [
    "import numpy as np\n",
    "\n",
    "# Read the input to list of boards and numbers\n",
    "with open('input_cards.txt') as f:\n",
    "    lines = f.read().splitlines()  # read lines without /n\n",
    "\n",
    "board, boards = [], []\n",
    "for line in lines:\n",
    "    if line == '':\n",
    "        boards.append(np.array(board, dtype=int))\n",
    "        board = []\n",
    "    else:\n",
    "        board.append(line.split())\n",
    "boards.append(np.array(board, dtype=int))\n",
    "num_boards = len(boards)\n",
    "print(num_boards)\n",
    "\n",
    "with open('input_nums.txt') as f:\n",
    "    lines = f.read().splitlines()  # read lines without /n\n",
    "numbers = np.array(lines[0].split(','), dtype=int)"
   ]
  },
  {
   "cell_type": "code",
   "execution_count": 50,
   "metadata": {},
   "outputs": [
    {
     "name": "stdout",
     "output_type": "stream",
     "text": [
      "solution: 82440.0\n"
     ]
    }
   ],
   "source": [
    "## Part 1 solution:\n",
    "winner = False\n",
    "markers = [np.zeros(boards[0].shape) for _ in range(num_boards)]\n",
    "\n",
    "for number in numbers:\n",
    "    # get number\n",
    "    for i in range(num_boards):\n",
    "        # check all rows and columns in board where number is present\n",
    "        rows, columns = np.where(boards[i] == number)\n",
    "        for r, c in zip(rows, columns):\n",
    "            markers[i][r, c] = 1\n",
    "        # check if board i is a winner:\n",
    "        for x in range(markers[i].shape[0]):\n",
    "            if markers[i][x,:].all() == 1:\n",
    "                winner = True \n",
    "            elif markers[i][:,x].all() == 1:\n",
    "                winner = True\n",
    "        if winner: break\n",
    "    if winner: break\n",
    "\n",
    "solution = np.sum(boards[i] * (-1 * markers[i] + 1)) * number\n",
    "print('solution: {}'.format(solution))"
   ]
  },
  {
   "cell_type": "code",
   "execution_count": 51,
   "metadata": {},
   "outputs": [
    {
     "name": "stdout",
     "output_type": "stream",
     "text": [
      "solution: 20774.0\n"
     ]
    }
   ],
   "source": [
    "## Part 2 Solution:\n",
    "# find the last winning board\n",
    "num_winners = 0\n",
    "list_winners = []\n",
    "markers = [np.zeros(boards[0].shape) for _ in range(num_boards)]\n",
    "\n",
    "for number in numbers:\n",
    "    # get number\n",
    "    for i in range(len(boards)):\n",
    "        # check all rows and columns in board where number is present\n",
    "        rows, columns = np.where(boards[i] == number)\n",
    "        for r, c in zip(rows, columns):\n",
    "            markers[i][r, c] = 1\n",
    "        # check if board i is a winner:\n",
    "        for x in range(markers[i].shape[0]):\n",
    "            if i in list_winners:\n",
    "                pass\n",
    "            elif markers[i][x,:].all() == 1:\n",
    "                num_winners += 1\n",
    "                list_winners.append(i)\n",
    "            elif markers[i][:,x].all() == 1:\n",
    "                num_winners += 1\n",
    "                list_winners.append(i)\n",
    "        if num_winners == num_boards: break\n",
    "    if num_winners == num_boards: break\n",
    "\n",
    "last_winner_index = list_winners[-1]\n",
    "solution = np.sum(boards[last_winner_index] * (-1 * markers[last_winner_index] + 1)) * number\n",
    "print('solution: {}'.format(solution))"
   ]
  }
 ],
 "metadata": {
  "interpreter": {
   "hash": "31f2aee4e71d21fbe5cf8b01ff0e069b9275f58929596ceb00d14d90e3e16cd6"
  },
  "kernelspec": {
   "display_name": "Python 3.8.9 64-bit",
   "language": "python",
   "name": "python3"
  },
  "language_info": {
   "codemirror_mode": {
    "name": "ipython",
    "version": 3
   },
   "file_extension": ".py",
   "mimetype": "text/x-python",
   "name": "python",
   "nbconvert_exporter": "python",
   "pygments_lexer": "ipython3",
   "version": "3.8.9"
  },
  "orig_nbformat": 4
 },
 "nbformat": 4,
 "nbformat_minor": 2
}
