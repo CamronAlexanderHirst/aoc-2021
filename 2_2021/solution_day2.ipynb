{
 "cells": [
  {
   "cell_type": "code",
   "execution_count": 9,
   "metadata": {},
   "outputs": [
    {
     "name": "stdout",
     "output_type": "stream",
     "text": [
      "x: 2105.0, y: 807.0\n",
      "solution: 1698735.0\n"
     ]
    }
   ],
   "source": [
    "# find horizontal (x) and vertical (y) positions, then multiply them\n",
    "with open('input.txt') as f:\n",
    "    lines = f.read().splitlines()  # read lines without /n\n",
    "\n",
    "x, y = 0, 0\n",
    "\n",
    "for line in lines:\n",
    "    # split into command and value\n",
    "    l = line.split(' ')\n",
    "    command, value = l\n",
    "    if command == 'forward':\n",
    "        x += float(value)\n",
    "    elif command == 'down':\n",
    "        y += float(value)\n",
    "    elif command == 'up':\n",
    "        y -= float(value)\n",
    "    else:\n",
    "        raise ValueError('Unknown command')\n",
    "\n",
    "print('x: {}, y: {}'.format(x, y))\n",
    "print('solution: {}'.format(x*y))"
   ]
  },
  {
   "cell_type": "code",
   "execution_count": 12,
   "metadata": {},
   "outputs": [
    {
     "name": "stdout",
     "output_type": "stream",
     "text": [
      "x: 2105.0, y: 757618.0, aim: 807.0\n",
      "solution: 1594785890.0\n"
     ]
    }
   ],
   "source": [
    "### Part 2: Do the same but with 'aim' \n",
    "\n",
    "x, y, aim = 0, 0, 0\n",
    "\n",
    "for line in lines:\n",
    "    # split into command and value\n",
    "    l = line.split(' ')\n",
    "    command, value = l\n",
    "    if command == 'forward':\n",
    "        x += float(value)\n",
    "        y += float(value) * float(aim)\n",
    "    elif command == 'down':\n",
    "        aim += float(value)\n",
    "    elif command == 'up':\n",
    "        aim -= float(value)\n",
    "    else:\n",
    "        raise ValueError('Unknown command')\n",
    "\n",
    "print('x: {}, y: {}, aim: {}'.format(x, y, aim))\n",
    "print('solution: {}'.format(x*y))"
   ]
  }
 ],
 "metadata": {
  "interpreter": {
   "hash": "31f2aee4e71d21fbe5cf8b01ff0e069b9275f58929596ceb00d14d90e3e16cd6"
  },
  "kernelspec": {
   "display_name": "Python 3.8.9 64-bit",
   "language": "python",
   "name": "python3"
  },
  "language_info": {
   "codemirror_mode": {
    "name": "ipython",
    "version": 3
   },
   "file_extension": ".py",
   "mimetype": "text/x-python",
   "name": "python",
   "nbconvert_exporter": "python",
   "pygments_lexer": "ipython3",
   "version": "3.8.9"
  },
  "orig_nbformat": 4
 },
 "nbformat": 4,
 "nbformat_minor": 2
}
